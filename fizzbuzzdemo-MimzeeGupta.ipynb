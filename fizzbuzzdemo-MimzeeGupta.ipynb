{
  "nbformat": 4,
  "nbformat_minor": 0,
  "metadata": {
    "colab": {
      "provenance": []
    },
    "kernelspec": {
      "name": "python3",
      "display_name": "Python 3"
    },
    "language_info": {
      "name": "python"
    }
  },
  "cells": [
    {
      "cell_type": "markdown",
      "source": [
        "fizzbuzzdemo-MimzeeGupta"
      ],
      "metadata": {
        "id": "8wL46rRezURt"
      }
    },
    {
      "cell_type": "code",
      "execution_count": 7,
      "metadata": {
        "colab": {
          "base_uri": "https://localhost:8080/"
        },
        "id": "CUn_YO5RGdyt",
        "outputId": "ddca9771-6415-481c-949b-de8f2fab0e97"
      },
      "outputs": [
        {
          "output_type": "stream",
          "name": "stdout",
          "text": [
            "Enter your number2\n",
            "2\n"
          ]
        }
      ],
      "source": [
        "nuM=int(input(\"Enter your number\"));\n",
        "\n",
        "if nuM%3==0:\n",
        "  print(\"Fizz\")\n",
        "elif nuM%5==0:\n",
        "  print(\"Buzz\")\n",
        "if nuM%3==0 & nuM%5==0:\n",
        "  print(\"FizzBuzz\")\n",
        "else:\n",
        "   print(nuM)\n"
      ]
    }
  ]
}